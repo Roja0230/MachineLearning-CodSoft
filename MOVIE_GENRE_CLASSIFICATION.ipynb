{
  "cells": [
    {
      "cell_type": "markdown",
      "metadata": {
        "id": "view-in-github",
        "colab_type": "text"
      },
      "source": [
        "<a href=\"https://colab.research.google.com/github/Roja0230/MachineLearning-CodSoft/blob/main/MOVIE_GENRE_CLASSIFICATION.ipynb\" target=\"_parent\"><img src=\"https://colab.research.google.com/assets/colab-badge.svg\" alt=\"Open In Colab\"/></a>"
      ]
    },
    {
      "cell_type": "code",
      "execution_count": null,
      "metadata": {
        "id": "iMIPyKkHLEf8"
      },
      "outputs": [],
      "source": [
        "# Run this cell\n",
        "!pip install -q kaggle nltk joblib\n"
      ]
    },
    {
      "cell_type": "code",
      "execution_count": null,
      "metadata": {
        "colab": {
          "base_uri": "https://localhost:8080/",
          "height": 194
        },
        "id": "EbgaX0MIMmX5",
        "outputId": "8c318467-58a1-44c1-f318-d97a8a9e4b6a"
      },
      "outputs": [
        {
          "output_type": "stream",
          "name": "stdout",
          "text": [
            "Upload archive.zip now (choose file from your PC)...\n"
          ]
        },
        {
          "output_type": "display_data",
          "data": {
            "text/plain": [
              "<IPython.core.display.HTML object>"
            ],
            "text/html": [
              "\n",
              "     <input type=\"file\" id=\"files-91d4392c-e9ed-44f7-b196-225fcf586083\" name=\"files[]\" multiple disabled\n",
              "        style=\"border:none\" />\n",
              "     <output id=\"result-91d4392c-e9ed-44f7-b196-225fcf586083\">\n",
              "      Upload widget is only available when the cell has been executed in the\n",
              "      current browser session. Please rerun this cell to enable.\n",
              "      </output>\n",
              "      <script>// Copyright 2017 Google LLC\n",
              "//\n",
              "// Licensed under the Apache License, Version 2.0 (the \"License\");\n",
              "// you may not use this file except in compliance with the License.\n",
              "// You may obtain a copy of the License at\n",
              "//\n",
              "//      http://www.apache.org/licenses/LICENSE-2.0\n",
              "//\n",
              "// Unless required by applicable law or agreed to in writing, software\n",
              "// distributed under the License is distributed on an \"AS IS\" BASIS,\n",
              "// WITHOUT WARRANTIES OR CONDITIONS OF ANY KIND, either express or implied.\n",
              "// See the License for the specific language governing permissions and\n",
              "// limitations under the License.\n",
              "\n",
              "/**\n",
              " * @fileoverview Helpers for google.colab Python module.\n",
              " */\n",
              "(function(scope) {\n",
              "function span(text, styleAttributes = {}) {\n",
              "  const element = document.createElement('span');\n",
              "  element.textContent = text;\n",
              "  for (const key of Object.keys(styleAttributes)) {\n",
              "    element.style[key] = styleAttributes[key];\n",
              "  }\n",
              "  return element;\n",
              "}\n",
              "\n",
              "// Max number of bytes which will be uploaded at a time.\n",
              "const MAX_PAYLOAD_SIZE = 100 * 1024;\n",
              "\n",
              "function _uploadFiles(inputId, outputId) {\n",
              "  const steps = uploadFilesStep(inputId, outputId);\n",
              "  const outputElement = document.getElementById(outputId);\n",
              "  // Cache steps on the outputElement to make it available for the next call\n",
              "  // to uploadFilesContinue from Python.\n",
              "  outputElement.steps = steps;\n",
              "\n",
              "  return _uploadFilesContinue(outputId);\n",
              "}\n",
              "\n",
              "// This is roughly an async generator (not supported in the browser yet),\n",
              "// where there are multiple asynchronous steps and the Python side is going\n",
              "// to poll for completion of each step.\n",
              "// This uses a Promise to block the python side on completion of each step,\n",
              "// then passes the result of the previous step as the input to the next step.\n",
              "function _uploadFilesContinue(outputId) {\n",
              "  const outputElement = document.getElementById(outputId);\n",
              "  const steps = outputElement.steps;\n",
              "\n",
              "  const next = steps.next(outputElement.lastPromiseValue);\n",
              "  return Promise.resolve(next.value.promise).then((value) => {\n",
              "    // Cache the last promise value to make it available to the next\n",
              "    // step of the generator.\n",
              "    outputElement.lastPromiseValue = value;\n",
              "    return next.value.response;\n",
              "  });\n",
              "}\n",
              "\n",
              "/**\n",
              " * Generator function which is called between each async step of the upload\n",
              " * process.\n",
              " * @param {string} inputId Element ID of the input file picker element.\n",
              " * @param {string} outputId Element ID of the output display.\n",
              " * @return {!Iterable<!Object>} Iterable of next steps.\n",
              " */\n",
              "function* uploadFilesStep(inputId, outputId) {\n",
              "  const inputElement = document.getElementById(inputId);\n",
              "  inputElement.disabled = false;\n",
              "\n",
              "  const outputElement = document.getElementById(outputId);\n",
              "  outputElement.innerHTML = '';\n",
              "\n",
              "  const pickedPromise = new Promise((resolve) => {\n",
              "    inputElement.addEventListener('change', (e) => {\n",
              "      resolve(e.target.files);\n",
              "    });\n",
              "  });\n",
              "\n",
              "  const cancel = document.createElement('button');\n",
              "  inputElement.parentElement.appendChild(cancel);\n",
              "  cancel.textContent = 'Cancel upload';\n",
              "  const cancelPromise = new Promise((resolve) => {\n",
              "    cancel.onclick = () => {\n",
              "      resolve(null);\n",
              "    };\n",
              "  });\n",
              "\n",
              "  // Wait for the user to pick the files.\n",
              "  const files = yield {\n",
              "    promise: Promise.race([pickedPromise, cancelPromise]),\n",
              "    response: {\n",
              "      action: 'starting',\n",
              "    }\n",
              "  };\n",
              "\n",
              "  cancel.remove();\n",
              "\n",
              "  // Disable the input element since further picks are not allowed.\n",
              "  inputElement.disabled = true;\n",
              "\n",
              "  if (!files) {\n",
              "    return {\n",
              "      response: {\n",
              "        action: 'complete',\n",
              "      }\n",
              "    };\n",
              "  }\n",
              "\n",
              "  for (const file of files) {\n",
              "    const li = document.createElement('li');\n",
              "    li.append(span(file.name, {fontWeight: 'bold'}));\n",
              "    li.append(span(\n",
              "        `(${file.type || 'n/a'}) - ${file.size} bytes, ` +\n",
              "        `last modified: ${\n",
              "            file.lastModifiedDate ? file.lastModifiedDate.toLocaleDateString() :\n",
              "                                    'n/a'} - `));\n",
              "    const percent = span('0% done');\n",
              "    li.appendChild(percent);\n",
              "\n",
              "    outputElement.appendChild(li);\n",
              "\n",
              "    const fileDataPromise = new Promise((resolve) => {\n",
              "      const reader = new FileReader();\n",
              "      reader.onload = (e) => {\n",
              "        resolve(e.target.result);\n",
              "      };\n",
              "      reader.readAsArrayBuffer(file);\n",
              "    });\n",
              "    // Wait for the data to be ready.\n",
              "    let fileData = yield {\n",
              "      promise: fileDataPromise,\n",
              "      response: {\n",
              "        action: 'continue',\n",
              "      }\n",
              "    };\n",
              "\n",
              "    // Use a chunked sending to avoid message size limits. See b/62115660.\n",
              "    let position = 0;\n",
              "    do {\n",
              "      const length = Math.min(fileData.byteLength - position, MAX_PAYLOAD_SIZE);\n",
              "      const chunk = new Uint8Array(fileData, position, length);\n",
              "      position += length;\n",
              "\n",
              "      const base64 = btoa(String.fromCharCode.apply(null, chunk));\n",
              "      yield {\n",
              "        response: {\n",
              "          action: 'append',\n",
              "          file: file.name,\n",
              "          data: base64,\n",
              "        },\n",
              "      };\n",
              "\n",
              "      let percentDone = fileData.byteLength === 0 ?\n",
              "          100 :\n",
              "          Math.round((position / fileData.byteLength) * 100);\n",
              "      percent.textContent = `${percentDone}% done`;\n",
              "\n",
              "    } while (position < fileData.byteLength);\n",
              "  }\n",
              "\n",
              "  // All done.\n",
              "  yield {\n",
              "    response: {\n",
              "      action: 'complete',\n",
              "    }\n",
              "  };\n",
              "}\n",
              "\n",
              "scope.google = scope.google || {};\n",
              "scope.google.colab = scope.google.colab || {};\n",
              "scope.google.colab._files = {\n",
              "  _uploadFiles,\n",
              "  _uploadFilesContinue,\n",
              "};\n",
              "})(self);\n",
              "</script> "
            ]
          },
          "metadata": {}
        },
        {
          "output_type": "stream",
          "name": "stdout",
          "text": [
            "Saving archive (1).zip to archive (1).zip\n",
            "/content/data\n",
            "/content/data/Genre Classification Dataset\n",
            "    description.txt\n",
            "    train_data.txt\n",
            "    test_data_solution.txt\n",
            "    test_data.txt\n"
          ]
        }
      ],
      "source": [
        "from google.colab import files\n",
        "import zipfile, os\n",
        "\n",
        "print(\"Upload archive.zip now (choose file from your PC)...\")\n",
        "uploaded = files.upload()  # select archive.zip\n",
        "\n",
        "# assume uploaded file name is archive.zip; if different, change below\n",
        "zip_name = list(uploaded.keys())[0]\n",
        "with zipfile.ZipFile(zip_name, 'r') as z:\n",
        "    z.extractall('/content/data')\n",
        "\n",
        "# list extracted files/folders\n",
        "for root, dirs, files in os.walk('/content/data'):\n",
        "    print(root)\n",
        "    for f in files:\n",
        "        print(\"   \", f)"
      ]
    },
    {
      "cell_type": "code",
      "execution_count": null,
      "metadata": {
        "colab": {
          "base_uri": "https://localhost:8080/"
        },
        "id": "RZuwHWYQM4va",
        "outputId": "339a92b6-724a-4ed9-df2e-f4c01f1d84ef"
      },
      "outputs": [
        {
          "output_type": "stream",
          "name": "stdout",
          "text": [
            "archive (1).zip: Zip archive data, at least v4.5 to extract, compression method=deflate\n",
            "-rw-r--r-- 1 root root 42M Aug 24 05:24 'archive (1).zip'\n"
          ]
        }
      ],
      "source": [
        "!file \"archive (1).zip\"\n",
        "!ls -lh \"archive (1).zip\"\n"
      ]
    },
    {
      "cell_type": "code",
      "execution_count": null,
      "metadata": {
        "colab": {
          "base_uri": "https://localhost:8080/"
        },
        "id": "uaBfiD30OIYx",
        "outputId": "fa389428-4530-4045-92cd-a60beeab8b58"
      },
      "outputs": [
        {
          "output_type": "stream",
          "name": "stdout",
          "text": [
            "Train file: /content/data/Genre Classification Dataset/train_data.txt\n",
            "Test file: /content/data/Genre Classification Dataset/test_data.txt\n"
          ]
        }
      ],
      "source": [
        "import glob\n",
        "\n",
        "train_paths = glob.glob('/content/data/**/train_data.txt', recursive=True)\n",
        "test_paths  = glob.glob('/content/data/**/test_data.txt', recursive=True)\n",
        "\n",
        "if train_paths and test_paths:\n",
        "    train_path = train_paths[0]\n",
        "    test_path = test_paths[0]\n",
        "    print(\"Train file:\", train_path)\n",
        "    print(\"Test file:\", test_path)\n",
        "else:\n",
        "    raise FileNotFoundError(\"train_data.txt or test_data.txt not found inside uploaded files.\")"
      ]
    },
    {
      "cell_type": "code",
      "execution_count": null,
      "metadata": {
        "colab": {
          "base_uri": "https://localhost:8080/",
          "height": 223
        },
        "id": "Sww8ThAQOOf7",
        "outputId": "cac6ed9b-4a5b-495e-ebc8-6cd3ba68b133"
      },
      "outputs": [
        {
          "output_type": "stream",
          "name": "stdout",
          "text": [
            "Train shape: (54214, 4)\n"
          ]
        },
        {
          "output_type": "execute_result",
          "data": {
            "text/plain": [
              "  ID                             Title     Genre  \\\n",
              "0  1      Oscar et la dame rose (2009)     drama   \n",
              "1  2                      Cupid (1997)  thriller   \n",
              "2  3  Young, Wild and Wonderful (1980)     adult   \n",
              "3  4             The Secret Sin (1915)     drama   \n",
              "4  5            The Unrecovered (2007)     drama   \n",
              "\n",
              "                                                Plot  \n",
              "0  Listening in to a conversation between his doc...  \n",
              "1  A brother and sister with a past incestuous re...  \n",
              "2  As the bus empties the students for their fiel...  \n",
              "3  To help their unemployed father make ends meet...  \n",
              "4  The film's title refers not only to the un-rec...  "
            ],
            "text/html": [
              "\n",
              "  <div id=\"df-79e6728a-4590-460f-bb84-63de093728f5\" class=\"colab-df-container\">\n",
              "    <div>\n",
              "<style scoped>\n",
              "    .dataframe tbody tr th:only-of-type {\n",
              "        vertical-align: middle;\n",
              "    }\n",
              "\n",
              "    .dataframe tbody tr th {\n",
              "        vertical-align: top;\n",
              "    }\n",
              "\n",
              "    .dataframe thead th {\n",
              "        text-align: right;\n",
              "    }\n",
              "</style>\n",
              "<table border=\"1\" class=\"dataframe\">\n",
              "  <thead>\n",
              "    <tr style=\"text-align: right;\">\n",
              "      <th></th>\n",
              "      <th>ID</th>\n",
              "      <th>Title</th>\n",
              "      <th>Genre</th>\n",
              "      <th>Plot</th>\n",
              "    </tr>\n",
              "  </thead>\n",
              "  <tbody>\n",
              "    <tr>\n",
              "      <th>0</th>\n",
              "      <td>1</td>\n",
              "      <td>Oscar et la dame rose (2009)</td>\n",
              "      <td>drama</td>\n",
              "      <td>Listening in to a conversation between his doc...</td>\n",
              "    </tr>\n",
              "    <tr>\n",
              "      <th>1</th>\n",
              "      <td>2</td>\n",
              "      <td>Cupid (1997)</td>\n",
              "      <td>thriller</td>\n",
              "      <td>A brother and sister with a past incestuous re...</td>\n",
              "    </tr>\n",
              "    <tr>\n",
              "      <th>2</th>\n",
              "      <td>3</td>\n",
              "      <td>Young, Wild and Wonderful (1980)</td>\n",
              "      <td>adult</td>\n",
              "      <td>As the bus empties the students for their fiel...</td>\n",
              "    </tr>\n",
              "    <tr>\n",
              "      <th>3</th>\n",
              "      <td>4</td>\n",
              "      <td>The Secret Sin (1915)</td>\n",
              "      <td>drama</td>\n",
              "      <td>To help their unemployed father make ends meet...</td>\n",
              "    </tr>\n",
              "    <tr>\n",
              "      <th>4</th>\n",
              "      <td>5</td>\n",
              "      <td>The Unrecovered (2007)</td>\n",
              "      <td>drama</td>\n",
              "      <td>The film's title refers not only to the un-rec...</td>\n",
              "    </tr>\n",
              "  </tbody>\n",
              "</table>\n",
              "</div>\n",
              "    <div class=\"colab-df-buttons\">\n",
              "\n",
              "  <div class=\"colab-df-container\">\n",
              "    <button class=\"colab-df-convert\" onclick=\"convertToInteractive('df-79e6728a-4590-460f-bb84-63de093728f5')\"\n",
              "            title=\"Convert this dataframe to an interactive table.\"\n",
              "            style=\"display:none;\">\n",
              "\n",
              "  <svg xmlns=\"http://www.w3.org/2000/svg\" height=\"24px\" viewBox=\"0 -960 960 960\">\n",
              "    <path d=\"M120-120v-720h720v720H120Zm60-500h600v-160H180v160Zm220 220h160v-160H400v160Zm0 220h160v-160H400v160ZM180-400h160v-160H180v160Zm440 0h160v-160H620v160ZM180-180h160v-160H180v160Zm440 0h160v-160H620v160Z\"/>\n",
              "  </svg>\n",
              "    </button>\n",
              "\n",
              "  <style>\n",
              "    .colab-df-container {\n",
              "      display:flex;\n",
              "      gap: 12px;\n",
              "    }\n",
              "\n",
              "    .colab-df-convert {\n",
              "      background-color: #E8F0FE;\n",
              "      border: none;\n",
              "      border-radius: 50%;\n",
              "      cursor: pointer;\n",
              "      display: none;\n",
              "      fill: #1967D2;\n",
              "      height: 32px;\n",
              "      padding: 0 0 0 0;\n",
              "      width: 32px;\n",
              "    }\n",
              "\n",
              "    .colab-df-convert:hover {\n",
              "      background-color: #E2EBFA;\n",
              "      box-shadow: 0px 1px 2px rgba(60, 64, 67, 0.3), 0px 1px 3px 1px rgba(60, 64, 67, 0.15);\n",
              "      fill: #174EA6;\n",
              "    }\n",
              "\n",
              "    .colab-df-buttons div {\n",
              "      margin-bottom: 4px;\n",
              "    }\n",
              "\n",
              "    [theme=dark] .colab-df-convert {\n",
              "      background-color: #3B4455;\n",
              "      fill: #D2E3FC;\n",
              "    }\n",
              "\n",
              "    [theme=dark] .colab-df-convert:hover {\n",
              "      background-color: #434B5C;\n",
              "      box-shadow: 0px 1px 3px 1px rgba(0, 0, 0, 0.15);\n",
              "      filter: drop-shadow(0px 1px 2px rgba(0, 0, 0, 0.3));\n",
              "      fill: #FFFFFF;\n",
              "    }\n",
              "  </style>\n",
              "\n",
              "    <script>\n",
              "      const buttonEl =\n",
              "        document.querySelector('#df-79e6728a-4590-460f-bb84-63de093728f5 button.colab-df-convert');\n",
              "      buttonEl.style.display =\n",
              "        google.colab.kernel.accessAllowed ? 'block' : 'none';\n",
              "\n",
              "      async function convertToInteractive(key) {\n",
              "        const element = document.querySelector('#df-79e6728a-4590-460f-bb84-63de093728f5');\n",
              "        const dataTable =\n",
              "          await google.colab.kernel.invokeFunction('convertToInteractive',\n",
              "                                                    [key], {});\n",
              "        if (!dataTable) return;\n",
              "\n",
              "        const docLinkHtml = 'Like what you see? Visit the ' +\n",
              "          '<a target=\"_blank\" href=https://colab.research.google.com/notebooks/data_table.ipynb>data table notebook</a>'\n",
              "          + ' to learn more about interactive tables.';\n",
              "        element.innerHTML = '';\n",
              "        dataTable['output_type'] = 'display_data';\n",
              "        await google.colab.output.renderOutput(dataTable, element);\n",
              "        const docLink = document.createElement('div');\n",
              "        docLink.innerHTML = docLinkHtml;\n",
              "        element.appendChild(docLink);\n",
              "      }\n",
              "    </script>\n",
              "  </div>\n",
              "\n",
              "\n",
              "    <div id=\"df-248c6a36-435b-4bb8-8f61-577332ee7ba2\">\n",
              "      <button class=\"colab-df-quickchart\" onclick=\"quickchart('df-248c6a36-435b-4bb8-8f61-577332ee7ba2')\"\n",
              "                title=\"Suggest charts\"\n",
              "                style=\"display:none;\">\n",
              "\n",
              "<svg xmlns=\"http://www.w3.org/2000/svg\" height=\"24px\"viewBox=\"0 0 24 24\"\n",
              "     width=\"24px\">\n",
              "    <g>\n",
              "        <path d=\"M19 3H5c-1.1 0-2 .9-2 2v14c0 1.1.9 2 2 2h14c1.1 0 2-.9 2-2V5c0-1.1-.9-2-2-2zM9 17H7v-7h2v7zm4 0h-2V7h2v10zm4 0h-2v-4h2v4z\"/>\n",
              "    </g>\n",
              "</svg>\n",
              "      </button>\n",
              "\n",
              "<style>\n",
              "  .colab-df-quickchart {\n",
              "      --bg-color: #E8F0FE;\n",
              "      --fill-color: #1967D2;\n",
              "      --hover-bg-color: #E2EBFA;\n",
              "      --hover-fill-color: #174EA6;\n",
              "      --disabled-fill-color: #AAA;\n",
              "      --disabled-bg-color: #DDD;\n",
              "  }\n",
              "\n",
              "  [theme=dark] .colab-df-quickchart {\n",
              "      --bg-color: #3B4455;\n",
              "      --fill-color: #D2E3FC;\n",
              "      --hover-bg-color: #434B5C;\n",
              "      --hover-fill-color: #FFFFFF;\n",
              "      --disabled-bg-color: #3B4455;\n",
              "      --disabled-fill-color: #666;\n",
              "  }\n",
              "\n",
              "  .colab-df-quickchart {\n",
              "    background-color: var(--bg-color);\n",
              "    border: none;\n",
              "    border-radius: 50%;\n",
              "    cursor: pointer;\n",
              "    display: none;\n",
              "    fill: var(--fill-color);\n",
              "    height: 32px;\n",
              "    padding: 0;\n",
              "    width: 32px;\n",
              "  }\n",
              "\n",
              "  .colab-df-quickchart:hover {\n",
              "    background-color: var(--hover-bg-color);\n",
              "    box-shadow: 0 1px 2px rgba(60, 64, 67, 0.3), 0 1px 3px 1px rgba(60, 64, 67, 0.15);\n",
              "    fill: var(--button-hover-fill-color);\n",
              "  }\n",
              "\n",
              "  .colab-df-quickchart-complete:disabled,\n",
              "  .colab-df-quickchart-complete:disabled:hover {\n",
              "    background-color: var(--disabled-bg-color);\n",
              "    fill: var(--disabled-fill-color);\n",
              "    box-shadow: none;\n",
              "  }\n",
              "\n",
              "  .colab-df-spinner {\n",
              "    border: 2px solid var(--fill-color);\n",
              "    border-color: transparent;\n",
              "    border-bottom-color: var(--fill-color);\n",
              "    animation:\n",
              "      spin 1s steps(1) infinite;\n",
              "  }\n",
              "\n",
              "  @keyframes spin {\n",
              "    0% {\n",
              "      border-color: transparent;\n",
              "      border-bottom-color: var(--fill-color);\n",
              "      border-left-color: var(--fill-color);\n",
              "    }\n",
              "    20% {\n",
              "      border-color: transparent;\n",
              "      border-left-color: var(--fill-color);\n",
              "      border-top-color: var(--fill-color);\n",
              "    }\n",
              "    30% {\n",
              "      border-color: transparent;\n",
              "      border-left-color: var(--fill-color);\n",
              "      border-top-color: var(--fill-color);\n",
              "      border-right-color: var(--fill-color);\n",
              "    }\n",
              "    40% {\n",
              "      border-color: transparent;\n",
              "      border-right-color: var(--fill-color);\n",
              "      border-top-color: var(--fill-color);\n",
              "    }\n",
              "    60% {\n",
              "      border-color: transparent;\n",
              "      border-right-color: var(--fill-color);\n",
              "    }\n",
              "    80% {\n",
              "      border-color: transparent;\n",
              "      border-right-color: var(--fill-color);\n",
              "      border-bottom-color: var(--fill-color);\n",
              "    }\n",
              "    90% {\n",
              "      border-color: transparent;\n",
              "      border-bottom-color: var(--fill-color);\n",
              "    }\n",
              "  }\n",
              "</style>\n",
              "\n",
              "      <script>\n",
              "        async function quickchart(key) {\n",
              "          const quickchartButtonEl =\n",
              "            document.querySelector('#' + key + ' button');\n",
              "          quickchartButtonEl.disabled = true;  // To prevent multiple clicks.\n",
              "          quickchartButtonEl.classList.add('colab-df-spinner');\n",
              "          try {\n",
              "            const charts = await google.colab.kernel.invokeFunction(\n",
              "                'suggestCharts', [key], {});\n",
              "          } catch (error) {\n",
              "            console.error('Error during call to suggestCharts:', error);\n",
              "          }\n",
              "          quickchartButtonEl.classList.remove('colab-df-spinner');\n",
              "          quickchartButtonEl.classList.add('colab-df-quickchart-complete');\n",
              "        }\n",
              "        (() => {\n",
              "          let quickchartButtonEl =\n",
              "            document.querySelector('#df-248c6a36-435b-4bb8-8f61-577332ee7ba2 button');\n",
              "          quickchartButtonEl.style.display =\n",
              "            google.colab.kernel.accessAllowed ? 'block' : 'none';\n",
              "        })();\n",
              "      </script>\n",
              "    </div>\n",
              "\n",
              "    </div>\n",
              "  </div>\n"
            ],
            "application/vnd.google.colaboratory.intrinsic+json": {
              "type": "dataframe",
              "variable_name": "train_df",
              "summary": "{\n  \"name\": \"train_df\",\n  \"rows\": 54214,\n  \"fields\": [\n    {\n      \"column\": \"ID\",\n      \"properties\": {\n        \"dtype\": \"string\",\n        \"num_unique_values\": 54214,\n        \"samples\": [\n          \"5090\",\n          \"30324\",\n          \"6416\"\n        ],\n        \"semantic_type\": \"\",\n        \"description\": \"\"\n      }\n    },\n    {\n      \"column\": \"Title\",\n      \"properties\": {\n        \"dtype\": \"string\",\n        \"num_unique_values\": 54214,\n        \"samples\": [\n          \"Sisterhood (2008)\",\n          \"Idylle (1983)\",\n          \"The Lost Skeleton Returns Again (2009)\"\n        ],\n        \"semantic_type\": \"\",\n        \"description\": \"\"\n      }\n    },\n    {\n      \"column\": \"Genre\",\n      \"properties\": {\n        \"dtype\": \"category\",\n        \"num_unique_values\": 27,\n        \"samples\": [\n          \"sport\",\n          \"sci-fi\",\n          \"animation\"\n        ],\n        \"semantic_type\": \"\",\n        \"description\": \"\"\n      }\n    },\n    {\n      \"column\": \"Plot\",\n      \"properties\": {\n        \"dtype\": \"string\",\n        \"num_unique_values\": 54086,\n        \"samples\": [\n          \"When a celestial event causes a depressed call centre employee to gain amazing abilities, he is told that he is actually the reincarnation of a powerful warrior. With his new-found ally, he must find out who he must become before the forces who seek his destruction find him.\",\n          \"Set against a lush Western Indian landscape during the monsoon season, CHITRAKUT delicately sets the tone, interweaving the lives of Saloni, Shaan, Debu, Alisha and Kim - all converging at different intersections of life, discovering the meaning of love, encapsulating fractured feelings, consumption of romantic longing and fleeting moments.\",\n          \"It is just after midnight. A family is fast asleep on a vast sofa in\\u00a0front of a television. They are woken abruptly by the sound track of the film they are watching, and find themselves being quite literally\\u00a0moved by the exhilarating sounds and images emanating from the\\u00a0screen.\"\n        ],\n        \"semantic_type\": \"\",\n        \"description\": \"\"\n      }\n    }\n  ]\n}"
            }
          },
          "metadata": {},
          "execution_count": 11
        }
      ],
      "source": [
        "import pandas as pd\n",
        "\n",
        "# Load train and test\n",
        "train_df = pd.read_csv(train_path, sep='\\t', header=None, names=['raw'])\n",
        "test_df  = pd.read_csv(test_path,  sep='\\t', header=None, names=['raw'])\n",
        "\n",
        "# Split into ID, Title, Genre, Plot\n",
        "train_df[['ID','Title','Genre','Plot']] = train_df['raw'].str.split(\" ::: \", expand=True)\n",
        "train_df.drop(columns=['raw'], inplace=True)\n",
        "\n",
        "print(\"Train shape:\", train_df.shape)\n",
        "train_df.head()"
      ]
    },
    {
      "cell_type": "code",
      "execution_count": null,
      "metadata": {
        "id": "hfzHsFCmOTUo"
      },
      "outputs": [],
      "source": [
        "merge_map = {\n",
        "    'fantasy': 'fantasy/adventure',\n",
        "    'adventure': 'fantasy/adventure',\n",
        "    'musical': 'music/musical',\n",
        "    'music': 'music/musical'\n",
        "}\n",
        "train_df['Genre'] = train_df['Genre'].replace(merge_map)\n"
      ]
    },
    {
      "cell_type": "code",
      "execution_count": null,
      "metadata": {
        "colab": {
          "base_uri": "https://localhost:8080/"
        },
        "id": "3aQMKl-TOVi2",
        "outputId": "e7b10f9e-7d5e-443a-ca5c-4c7ea61bde41"
      },
      "outputs": [
        {
          "output_type": "stream",
          "name": "stdout",
          "text": [
            "Remaining genres: 16\n",
            "Genre\n",
            "drama                13613\n",
            "documentary          13096\n",
            "comedy                7447\n",
            "short                 5073\n",
            "horror                2204\n",
            "thriller              1591\n",
            "action                1315\n",
            "fantasy/adventure     1098\n",
            "western               1032\n",
            "music/musical         1008\n",
            "reality-tv             884\n",
            "family                 784\n",
            "romance                672\n",
            "sci-fi                 647\n",
            "adult                  590\n",
            "crime                  505\n",
            "Name: count, dtype: int64\n"
          ]
        }
      ],
      "source": [
        "min_samples = 500\n",
        "valid_genres = train_df['Genre'].value_counts()[train_df['Genre'].value_counts() >= min_samples].index\n",
        "train_df = train_df[train_df['Genre'].isin(valid_genres)].reset_index(drop=True)\n",
        "\n",
        "print(\"Remaining genres:\", train_df['Genre'].nunique())\n",
        "print(train_df['Genre'].value_counts())\n"
      ]
    },
    {
      "cell_type": "code",
      "execution_count": null,
      "metadata": {
        "colab": {
          "base_uri": "https://localhost:8080/"
        },
        "id": "1k4rpsKnOYxa",
        "outputId": "1ae17f40-6add-4555-d1a7-bc475d3fe9dd"
      },
      "outputs": [
        {
          "output_type": "stream",
          "name": "stderr",
          "text": [
            "[nltk_data] Downloading package stopwords to /root/nltk_data...\n",
            "[nltk_data]   Package stopwords is already up-to-date!\n",
            "[nltk_data] Downloading package wordnet to /root/nltk_data...\n",
            "[nltk_data]   Package wordnet is already up-to-date!\n"
          ]
        }
      ],
      "source": [
        "import re\n",
        "import nltk\n",
        "nltk.download('stopwords')\n",
        "nltk.download('wordnet')\n",
        "from nltk.corpus import stopwords\n",
        "from nltk.stem import WordNetLemmatizer\n",
        "\n",
        "stop_words = set(stopwords.words('english'))\n",
        "lemmatizer = WordNetLemmatizer()\n",
        "\n",
        "def clean_text(s):\n",
        "    s = str(s).lower()\n",
        "    s = re.sub(r'[^a-z0-9\\s]', ' ', s)\n",
        "    tokens = s.split()\n",
        "    tokens = [t for t in tokens if t not in stop_words]\n",
        "    tokens = [lemmatizer.lemmatize(t) for t in tokens]\n",
        "    return ' '.join(tokens)\n",
        "\n",
        "train_df['Clean_Plot'] = train_df['Plot'].apply(clean_text)\n"
      ]
    },
    {
      "cell_type": "code",
      "execution_count": null,
      "metadata": {
        "id": "FvGtqzpEOjVk"
      },
      "outputs": [],
      "source": [
        "#TF-IDF + train/test split\n",
        "\n",
        "from sklearn.feature_extraction.text import TfidfVectorizer\n",
        "from sklearn.model_selection import train_test_split\n",
        "\n",
        "tfidf = TfidfVectorizer(max_features=20000, ngram_range=(1,2))\n",
        "X = tfidf.fit_transform(train_df['Clean_Plot'])\n",
        "y = train_df['Genre']\n",
        "\n",
        "X_train, X_test, y_train, y_test = train_test_split(\n",
        "    X, y, test_size=0.2, random_state=42, stratify=y\n",
        ")"
      ]
    },
    {
      "cell_type": "code",
      "execution_count": null,
      "metadata": {
        "colab": {
          "base_uri": "https://localhost:8080/"
        },
        "id": "wOTh_6BDOsL0",
        "outputId": "5f5d3605-e4d6-4ad2-f587-e9ae5ff97c40"
      },
      "outputs": [
        {
          "output_type": "stream",
          "name": "stdout",
          "text": [
            "Accuracy: 0.5554693560899923\n",
            "                   precision    recall  f1-score   support\n",
            "\n",
            "           action       0.33      0.54      0.41       263\n",
            "            adult       0.45      0.71      0.55       118\n",
            "           comedy       0.61      0.54      0.57      1489\n",
            "            crime       0.16      0.30      0.21       101\n",
            "      documentary       0.81      0.70      0.75      2619\n",
            "            drama       0.70      0.46      0.56      2723\n",
            "           family       0.21      0.41      0.28       157\n",
            "fantasy/adventure       0.24      0.36      0.29       220\n",
            "           horror       0.59      0.70      0.64       441\n",
            "    music/musical       0.43      0.72      0.54       202\n",
            "       reality-tv       0.32      0.66      0.43       177\n",
            "          romance       0.13      0.36      0.19       134\n",
            "           sci-fi       0.33      0.52      0.40       129\n",
            "            short       0.44      0.45      0.44      1015\n",
            "         thriller       0.29      0.38      0.32       318\n",
            "          western       0.76      0.88      0.82       206\n",
            "\n",
            "         accuracy                           0.56     10312\n",
            "        macro avg       0.42      0.54      0.46     10312\n",
            "     weighted avg       0.61      0.56      0.57     10312\n",
            "\n"
          ]
        }
      ],
      "source": [
        "#Train Logistic Regression\n",
        "\n",
        "from sklearn.linear_model import LogisticRegression\n",
        "from sklearn.metrics import accuracy_score, classification_report\n",
        "\n",
        "model = LogisticRegression(max_iter=2000, class_weight='balanced')\n",
        "model.fit(X_train, y_train)\n",
        "\n",
        "y_pred = model.predict(X_test)\n",
        "print(\"Accuracy:\", accuracy_score(y_test, y_pred))\n",
        "print(classification_report(y_test, y_pred, zero_division=0))"
      ]
    },
    {
      "cell_type": "code",
      "execution_count": null,
      "metadata": {
        "colab": {
          "base_uri": "https://localhost:8080/"
        },
        "id": "foAsMfXJPB5I",
        "outputId": "4f85ab98-59ce-4513-b1d4-3e305d950843"
      },
      "outputs": [
        {
          "output_type": "stream",
          "name": "stdout",
          "text": [
            "fantasy/adventure\n"
          ]
        }
      ],
      "source": [
        "#  Prediction function\n",
        "\n",
        "def predict_genre(plot_text):\n",
        "    plot_text = clean_text(plot_text)\n",
        "    vec = tfidf.transform([plot_text])\n",
        "    return model.predict(vec)[0]\n",
        "\n",
        "# Example\n",
        "print(predict_genre(\"A young wizard attends a magical school and faces a dark enemy.\"))\n"
      ]
    },
    {
      "cell_type": "code",
      "execution_count": null,
      "metadata": {
        "colab": {
          "base_uri": "https://localhost:8080/"
        },
        "id": "oN26OUMtPP4j",
        "outputId": "71ddcdcb-0adb-4005-9550-37b90d6fb6bd"
      },
      "outputs": [
        {
          "output_type": "stream",
          "name": "stdout",
          "text": [
            "\n",
            "=== LogisticRegression ===\n",
            "Accuracy: 0.5554693560899923\n",
            "                   precision    recall  f1-score   support\n",
            "\n",
            "           action       0.33      0.54      0.41       263\n",
            "            adult       0.45      0.71      0.55       118\n",
            "           comedy       0.61      0.54      0.57      1489\n",
            "            crime       0.16      0.30      0.21       101\n",
            "      documentary       0.81      0.70      0.75      2619\n",
            "            drama       0.70      0.46      0.56      2723\n",
            "           family       0.21      0.41      0.28       157\n",
            "fantasy/adventure       0.24      0.36      0.29       220\n",
            "           horror       0.59      0.70      0.64       441\n",
            "    music/musical       0.43      0.72      0.54       202\n",
            "       reality-tv       0.32      0.66      0.43       177\n",
            "          romance       0.13      0.36      0.19       134\n",
            "           sci-fi       0.33      0.52      0.40       129\n",
            "            short       0.44      0.45      0.44      1015\n",
            "         thriller       0.29      0.38      0.32       318\n",
            "          western       0.76      0.88      0.82       206\n",
            "\n",
            "         accuracy                           0.56     10312\n",
            "        macro avg       0.42      0.54      0.46     10312\n",
            "     weighted avg       0.61      0.56      0.57     10312\n",
            "\n",
            "\n",
            "=== MultinomialNB ===\n",
            "Accuracy: 0.5253103180760279\n",
            "                   precision    recall  f1-score   support\n",
            "\n",
            "           action       1.00      0.01      0.02       263\n",
            "            adult       1.00      0.01      0.02       118\n",
            "           comedy       0.57      0.37      0.45      1489\n",
            "            crime       0.00      0.00      0.00       101\n",
            "      documentary       0.60      0.90      0.72      2619\n",
            "            drama       0.45      0.84      0.58      2723\n",
            "           family       0.00      0.00      0.00       157\n",
            "fantasy/adventure       0.62      0.02      0.04       220\n",
            "           horror       0.90      0.18      0.30       441\n",
            "    music/musical       1.00      0.00      0.01       202\n",
            "       reality-tv       0.00      0.00      0.00       177\n",
            "          romance       0.00      0.00      0.00       134\n",
            "           sci-fi       0.00      0.00      0.00       129\n",
            "            short       0.78      0.06      0.11      1015\n",
            "         thriller       1.00      0.00      0.01       318\n",
            "          western       1.00      0.29      0.45       206\n",
            "\n",
            "         accuracy                           0.53     10312\n",
            "        macro avg       0.56      0.17      0.17     10312\n",
            "     weighted avg       0.59      0.53      0.44     10312\n",
            "\n",
            "\n",
            "=== LinearSVC ===\n",
            "Accuracy: 0.5744763382467029\n",
            "                   precision    recall  f1-score   support\n",
            "\n",
            "           action       0.32      0.48      0.39       263\n",
            "            adult       0.52      0.56      0.54       118\n",
            "           comedy       0.58      0.56      0.57      1489\n",
            "            crime       0.15      0.15      0.15       101\n",
            "      documentary       0.77      0.77      0.77      2619\n",
            "            drama       0.64      0.55      0.59      2723\n",
            "           family       0.23      0.25      0.24       157\n",
            "fantasy/adventure       0.24      0.30      0.26       220\n",
            "           horror       0.57      0.67      0.62       441\n",
            "    music/musical       0.46      0.61      0.52       202\n",
            "       reality-tv       0.37      0.47      0.41       177\n",
            "          romance       0.14      0.19      0.17       134\n",
            "           sci-fi       0.32      0.39      0.35       129\n",
            "            short       0.44      0.40      0.42      1015\n",
            "         thriller       0.28      0.29      0.28       318\n",
            "          western       0.76      0.87      0.81       206\n",
            "\n",
            "         accuracy                           0.57     10312\n",
            "        macro avg       0.42      0.47      0.44     10312\n",
            "     weighted avg       0.59      0.57      0.58     10312\n",
            "\n"
          ]
        }
      ],
      "source": [
        "#Compare Logistic Regression, Naive Bayes, and SVM\n",
        "\n",
        "\n",
        "from sklearn.naive_bayes import MultinomialNB\n",
        "from sklearn.svm import LinearSVC\n",
        "\n",
        "models = {\n",
        "    \"LogisticRegression\": LogisticRegression(max_iter=2000, class_weight='balanced'),\n",
        "    \"MultinomialNB\": MultinomialNB(),\n",
        "    \"LinearSVC\": LinearSVC(max_iter=20000, class_weight='balanced')\n",
        "}\n",
        "\n",
        "for name, clf in models.items():\n",
        "    clf.fit(X_train, y_train)\n",
        "    preds = clf.predict(X_test)\n",
        "    acc = accuracy_score(y_test, preds)\n",
        "    print(f\"\\n=== {name} ===\")\n",
        "    print(\"Accuracy:\", acc)\n",
        "    print(classification_report(y_test, preds, zero_division=0))"
      ]
    },
    {
      "cell_type": "code",
      "execution_count": null,
      "metadata": {
        "colab": {
          "base_uri": "https://localhost:8080/"
        },
        "id": "bXncucNzPheY",
        "outputId": "67f7c37b-b128-4a80-f125-00649a9d2e25"
      },
      "outputs": [
        {
          "output_type": "stream",
          "name": "stdout",
          "text": [
            "fantasy/adventure\n"
          ]
        }
      ],
      "source": [
        "# Choose best model for prediction\n",
        "\n",
        "best_model = models[\"LogisticRegression\"]  # Change if NB or SVC is better\n",
        "\n",
        "def predict_genre_best(plot_text):\n",
        "    plot_text = clean_text(plot_text)\n",
        "    vec = tfidf.transform([plot_text])\n",
        "    return best_model.predict(vec)[0]\n",
        "\n",
        "# Example\n",
        "print(predict_genre_best(\"A group of explorers discover a lost city and face many dangers.\"))\n"
      ]
    },
    {
      "cell_type": "code",
      "execution_count": null,
      "metadata": {
        "colab": {
          "base_uri": "https://localhost:8080/",
          "height": 17
        },
        "id": "_bVDRkGBPrtr",
        "outputId": "2cb7797e-39f6-49da-bf93-ac2b51957e0e"
      },
      "outputs": [
        {
          "output_type": "display_data",
          "data": {
            "text/plain": [
              "<IPython.core.display.Javascript object>"
            ],
            "application/javascript": [
              "\n",
              "    async function download(id, filename, size) {\n",
              "      if (!google.colab.kernel.accessAllowed) {\n",
              "        return;\n",
              "      }\n",
              "      const div = document.createElement('div');\n",
              "      const label = document.createElement('label');\n",
              "      label.textContent = `Downloading \"${filename}\": `;\n",
              "      div.appendChild(label);\n",
              "      const progress = document.createElement('progress');\n",
              "      progress.max = size;\n",
              "      div.appendChild(progress);\n",
              "      document.body.appendChild(div);\n",
              "\n",
              "      const buffers = [];\n",
              "      let downloaded = 0;\n",
              "\n",
              "      const channel = await google.colab.kernel.comms.open(id);\n",
              "      // Send a message to notify the kernel that we're ready.\n",
              "      channel.send({})\n",
              "\n",
              "      for await (const message of channel.messages) {\n",
              "        // Send a message to notify the kernel that we're ready.\n",
              "        channel.send({})\n",
              "        if (message.buffers) {\n",
              "          for (const buffer of message.buffers) {\n",
              "            buffers.push(buffer);\n",
              "            downloaded += buffer.byteLength;\n",
              "            progress.value = downloaded;\n",
              "          }\n",
              "        }\n",
              "      }\n",
              "      const blob = new Blob(buffers, {type: 'application/binary'});\n",
              "      const a = document.createElement('a');\n",
              "      a.href = window.URL.createObjectURL(blob);\n",
              "      a.download = filename;\n",
              "      div.appendChild(a);\n",
              "      a.click();\n",
              "      div.remove();\n",
              "    }\n",
              "  "
            ]
          },
          "metadata": {}
        },
        {
          "output_type": "display_data",
          "data": {
            "text/plain": [
              "<IPython.core.display.Javascript object>"
            ],
            "application/javascript": [
              "download(\"download_9072924c-39c3-4965-ad74-599e387994fc\", \"genre_model.joblib\", 2561303)"
            ]
          },
          "metadata": {}
        },
        {
          "output_type": "display_data",
          "data": {
            "text/plain": [
              "<IPython.core.display.Javascript object>"
            ],
            "application/javascript": [
              "\n",
              "    async function download(id, filename, size) {\n",
              "      if (!google.colab.kernel.accessAllowed) {\n",
              "        return;\n",
              "      }\n",
              "      const div = document.createElement('div');\n",
              "      const label = document.createElement('label');\n",
              "      label.textContent = `Downloading \"${filename}\": `;\n",
              "      div.appendChild(label);\n",
              "      const progress = document.createElement('progress');\n",
              "      progress.max = size;\n",
              "      div.appendChild(progress);\n",
              "      document.body.appendChild(div);\n",
              "\n",
              "      const buffers = [];\n",
              "      let downloaded = 0;\n",
              "\n",
              "      const channel = await google.colab.kernel.comms.open(id);\n",
              "      // Send a message to notify the kernel that we're ready.\n",
              "      channel.send({})\n",
              "\n",
              "      for await (const message of channel.messages) {\n",
              "        // Send a message to notify the kernel that we're ready.\n",
              "        channel.send({})\n",
              "        if (message.buffers) {\n",
              "          for (const buffer of message.buffers) {\n",
              "            buffers.push(buffer);\n",
              "            downloaded += buffer.byteLength;\n",
              "            progress.value = downloaded;\n",
              "          }\n",
              "        }\n",
              "      }\n",
              "      const blob = new Blob(buffers, {type: 'application/binary'});\n",
              "      const a = document.createElement('a');\n",
              "      a.href = window.URL.createObjectURL(blob);\n",
              "      a.download = filename;\n",
              "      div.appendChild(a);\n",
              "      a.click();\n",
              "      div.remove();\n",
              "    }\n",
              "  "
            ]
          },
          "metadata": {}
        },
        {
          "output_type": "display_data",
          "data": {
            "text/plain": [
              "<IPython.core.display.Javascript object>"
            ],
            "application/javascript": [
              "download(\"download_75e1cb0b-5030-40d6-8f3f-33c210eadffb\", \"tfidf_vectorizer.joblib\", 767569)"
            ]
          },
          "metadata": {}
        }
      ],
      "source": [
        "#  Save the model & vectorizer\n",
        "\n",
        "import joblib\n",
        "from google.colab import files\n",
        "\n",
        "# Save best model and TF-IDF vectorizer\n",
        "joblib.dump(best_model, \"genre_model.joblib\")\n",
        "joblib.dump(tfidf, \"tfidf_vectorizer.joblib\")\n",
        "\n",
        "# Download them to your computer\n",
        "files.download(\"genre_model.joblib\")\n",
        "files.download(\"tfidf_vectorizer.joblib\")\n"
      ]
    },
    {
      "cell_type": "code",
      "execution_count": null,
      "metadata": {
        "id": "70B-7syeP2Dp",
        "colab": {
          "base_uri": "https://localhost:8080/"
        },
        "outputId": "9752fc74-b8f3-4abf-de52-d4ebb7e4255c"
      },
      "outputs": [
        {
          "output_type": "stream",
          "name": "stdout",
          "text": [
            "action\n"
          ]
        }
      ],
      "source": [
        "#  Load model later\n",
        "\n",
        "import joblib\n",
        "\n",
        "# Load saved model and vectorizer\n",
        "model = joblib.load(\"genre_model.joblib\")\n",
        "tfidf = joblib.load(\"tfidf_vectorizer.joblib\")\n",
        "\n",
        "# Prediction function\n",
        "def predict_genre(plot_text):\n",
        "    plot_text = clean_text(plot_text)  # use same cleaning function from before\n",
        "    vec = tfidf.transform([plot_text])\n",
        "    return model.predict(vec)[0]\n",
        "\n",
        "# Test\n",
        "print(predict_genre(\"A superhero must save the city from a powerful villain.\"))\n"
      ]
    },
    {
      "cell_type": "code",
      "execution_count": null,
      "metadata": {
        "id": "9FTbiYgQUB9p",
        "colab": {
          "base_uri": "https://localhost:8080/"
        },
        "outputId": "d65708cd-b84e-494c-c7be-bdde40e5c1a3"
      },
      "outputs": [
        {
          "output_type": "stream",
          "name": "stdout",
          "text": [
            "fantasy/adventure\n"
          ]
        },
        {
          "output_type": "stream",
          "name": "stderr",
          "text": [
            "[nltk_data] Downloading package stopwords to /root/nltk_data...\n",
            "[nltk_data]   Package stopwords is already up-to-date!\n",
            "[nltk_data] Downloading package wordnet to /root/nltk_data...\n",
            "[nltk_data]   Package wordnet is already up-to-date!\n"
          ]
        }
      ],
      "source": [
        "import joblib\n",
        "import re\n",
        "import nltk\n",
        "nltk.download('stopwords')\n",
        "nltk.download('wordnet')\n",
        "from nltk.corpus import stopwords\n",
        "from nltk.stem import WordNetLemmatizer\n",
        "\n",
        "# Load model and vectorizer\n",
        "model = joblib.load(\"/content/genre_model.joblib\")\n",
        "tfidf = joblib.load(\"/content/tfidf_vectorizer.joblib\")\n",
        "\n",
        "# Text cleaner (must match training preprocessing)\n",
        "stop_words = set(stopwords.words('english'))\n",
        "lemmatizer = WordNetLemmatizer()\n",
        "\n",
        "def clean_text(s):\n",
        "    s = str(s).lower()\n",
        "    s = re.sub(r'[^a-z0-9\\s]', ' ', s)\n",
        "    tokens = s.split()\n",
        "    tokens = [t for t in tokens if t not in stop_words]\n",
        "    tokens = [lemmatizer.lemmatize(t) for t in tokens]\n",
        "    return ' '.join(tokens)\n",
        "\n",
        "# Prediction function\n",
        "def predict_genre(plot_text):\n",
        "    plot_text = clean_text(plot_text)\n",
        "    vec = tfidf.transform([plot_text])\n",
        "    return model.predict(vec)[0]\n",
        "\n",
        "# Test\n",
        "print(predict_genre(\"A young wizard discovers his magical heritage and battles a dark enemy at a magic school.\"))\n"
      ]
    }
  ],
  "metadata": {
    "colab": {
      "provenance": [],
      "include_colab_link": true
    },
    "kernelspec": {
      "display_name": "Python 3",
      "name": "python3"
    },
    "language_info": {
      "name": "python"
    }
  },
  "nbformat": 4,
  "nbformat_minor": 0
}