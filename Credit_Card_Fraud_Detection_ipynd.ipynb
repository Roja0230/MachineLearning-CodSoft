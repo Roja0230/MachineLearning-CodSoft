{
  "nbformat": 4,
  "nbformat_minor": 0,
  "metadata": {
    "colab": {
      "provenance": [],
      "include_colab_link": true
    },
    "kernelspec": {
      "name": "python3",
      "display_name": "Python 3"
    },
    "language_info": {
      "name": "python"
    }
  },
  "cells": [
    {
      "cell_type": "markdown",
      "metadata": {
        "id": "view-in-github",
        "colab_type": "text"
      },
      "source": [
        "<a href=\"https://colab.research.google.com/github/Roja0230/MachineLearning-CodSoft/blob/main/Credit_Card_Fraud_Detection_ipynd.ipynb\" target=\"_parent\"><img src=\"https://colab.research.google.com/assets/colab-badge.svg\" alt=\"Open In Colab\"/></a>"
      ]
    },
    {
      "cell_type": "code",
      "source": [
        "# 1. Install & download dataset from Kaggle\n",
        "# ======================\n",
        "!pip install kagglehub --upgrade\n",
        "import kagglehub\n",
        "import pandas as pd\n"
      ],
      "metadata": {
        "colab": {
          "base_uri": "https://localhost:8080/"
        },
        "id": "ztQtBUbXn8MH",
        "outputId": "adace75a-854d-4735-d197-02345056dece"
      },
      "execution_count": null,
      "outputs": [
        {
          "output_type": "stream",
          "name": "stdout",
          "text": [
            "Requirement already satisfied: kagglehub in /usr/local/lib/python3.11/dist-packages (0.3.12)\n",
            "Requirement already satisfied: packaging in /usr/local/lib/python3.11/dist-packages (from kagglehub) (25.0)\n",
            "Requirement already satisfied: pyyaml in /usr/local/lib/python3.11/dist-packages (from kagglehub) (6.0.2)\n",
            "Requirement already satisfied: requests in /usr/local/lib/python3.11/dist-packages (from kagglehub) (2.32.3)\n",
            "Requirement already satisfied: tqdm in /usr/local/lib/python3.11/dist-packages (from kagglehub) (4.67.1)\n",
            "Requirement already satisfied: charset-normalizer<4,>=2 in /usr/local/lib/python3.11/dist-packages (from requests->kagglehub) (3.4.2)\n",
            "Requirement already satisfied: idna<4,>=2.5 in /usr/local/lib/python3.11/dist-packages (from requests->kagglehub) (3.10)\n",
            "Requirement already satisfied: urllib3<3,>=1.21.1 in /usr/local/lib/python3.11/dist-packages (from requests->kagglehub) (2.5.0)\n",
            "Requirement already satisfied: certifi>=2017.4.17 in /usr/local/lib/python3.11/dist-packages (from requests->kagglehub) (2025.8.3)\n"
          ]
        }
      ]
    },
    {
      "cell_type": "code",
      "source": [
        "# Download dataset\n",
        "path = kagglehub.dataset_download(\"kartik2112/fraud-detection\")\n",
        "print(\"Dataset path:\", path)\n",
        "\n",
        "# Load CSV (choose smaller for speed in Colab)\n",
        "df = pd.read_csv(f\"{path}/fraudTest.csv\")\n",
        "print(df.head())\n",
        "print(df.info())"
      ],
      "metadata": {
        "colab": {
          "base_uri": "https://localhost:8080/"
        },
        "id": "HixbpyUDoHnN",
        "outputId": "e0e0c350-d9ce-405a-9364-3d1e01ceb725"
      },
      "execution_count": null,
      "outputs": [
        {
          "output_type": "stream",
          "name": "stdout",
          "text": [
            "Dataset path: /kaggle/input/fraud-detection\n",
            "   Unnamed: 0 trans_date_trans_time            cc_num  \\\n",
            "0           0   2020-06-21 12:14:25  2291163933867244   \n",
            "1           1   2020-06-21 12:14:33  3573030041201292   \n",
            "2           2   2020-06-21 12:14:53  3598215285024754   \n",
            "3           3   2020-06-21 12:15:15  3591919803438423   \n",
            "4           4   2020-06-21 12:15:17  3526826139003047   \n",
            "\n",
            "                               merchant        category    amt   first  \\\n",
            "0                 fraud_Kirlin and Sons   personal_care   2.86    Jeff   \n",
            "1                  fraud_Sporer-Keebler   personal_care  29.84  Joanne   \n",
            "2  fraud_Swaniawski, Nitzsche and Welch  health_fitness  41.28  Ashley   \n",
            "3                     fraud_Haley Group        misc_pos  60.05   Brian   \n",
            "4                 fraud_Johnston-Casper          travel   3.19  Nathan   \n",
            "\n",
            "       last gender                       street  ...      lat      long  \\\n",
            "0   Elliott      M            351 Darlene Green  ...  33.9659  -80.9355   \n",
            "1  Williams      F             3638 Marsh Union  ...  40.3207 -110.4360   \n",
            "2     Lopez      F         9333 Valentine Point  ...  40.6729  -73.5365   \n",
            "3  Williams      M  32941 Krystal Mill Apt. 552  ...  28.5697  -80.8191   \n",
            "4    Massey      M     5783 Evan Roads Apt. 465  ...  44.2529  -85.0170   \n",
            "\n",
            "   city_pop                     job         dob  \\\n",
            "0    333497     Mechanical engineer  1968-03-19   \n",
            "1       302  Sales professional, IT  1990-01-17   \n",
            "2     34496       Librarian, public  1970-10-21   \n",
            "3     54767            Set designer  1987-07-25   \n",
            "4      1126      Furniture designer  1955-07-06   \n",
            "\n",
            "                          trans_num   unix_time  merch_lat  merch_long  \\\n",
            "0  2da90c7d74bd46a0caf3777415b3ebd3  1371816865  33.986391  -81.200714   \n",
            "1  324cc204407e99f51b0d6ca0055005e7  1371816873  39.450498 -109.960431   \n",
            "2  c81755dbbbea9d5c77f094348a7579be  1371816893  40.495810  -74.196111   \n",
            "3  2159175b9efe66dc301f149d3d5abf8c  1371816915  28.812398  -80.883061   \n",
            "4  57ff021bd3f328f8738bb535c302a31b  1371816917  44.959148  -85.884734   \n",
            "\n",
            "   is_fraud  \n",
            "0         0  \n",
            "1         0  \n",
            "2         0  \n",
            "3         0  \n",
            "4         0  \n",
            "\n",
            "[5 rows x 23 columns]\n",
            "<class 'pandas.core.frame.DataFrame'>\n",
            "RangeIndex: 555719 entries, 0 to 555718\n",
            "Data columns (total 23 columns):\n",
            " #   Column                 Non-Null Count   Dtype  \n",
            "---  ------                 --------------   -----  \n",
            " 0   Unnamed: 0             555719 non-null  int64  \n",
            " 1   trans_date_trans_time  555719 non-null  object \n",
            " 2   cc_num                 555719 non-null  int64  \n",
            " 3   merchant               555719 non-null  object \n",
            " 4   category               555719 non-null  object \n",
            " 5   amt                    555719 non-null  float64\n",
            " 6   first                  555719 non-null  object \n",
            " 7   last                   555719 non-null  object \n",
            " 8   gender                 555719 non-null  object \n",
            " 9   street                 555719 non-null  object \n",
            " 10  city                   555719 non-null  object \n",
            " 11  state                  555719 non-null  object \n",
            " 12  zip                    555719 non-null  int64  \n",
            " 13  lat                    555719 non-null  float64\n",
            " 14  long                   555719 non-null  float64\n",
            " 15  city_pop               555719 non-null  int64  \n",
            " 16  job                    555719 non-null  object \n",
            " 17  dob                    555719 non-null  object \n",
            " 18  trans_num              555719 non-null  object \n",
            " 19  unix_time              555719 non-null  int64  \n",
            " 20  merch_lat              555719 non-null  float64\n",
            " 21  merch_long             555719 non-null  float64\n",
            " 22  is_fraud               555719 non-null  int64  \n",
            "dtypes: float64(5), int64(6), object(12)\n",
            "memory usage: 97.5+ MB\n",
            "None\n"
          ]
        }
      ]
    },
    {
      "cell_type": "code",
      "source": [
        "# 2. Data preparation\n",
        "# ======================\n",
        "# Keep only numeric columns for ML\n",
        "df = df.select_dtypes(include=['number'])\n",
        "\n",
        "# Check target variable\n",
        "print(df['is_fraud'].value_counts())\n",
        "\n",
        "# Rename target for consistency\n",
        "df.rename(columns={'is_fraud': 'Class'}, inplace=True)\n"
      ],
      "metadata": {
        "colab": {
          "base_uri": "https://localhost:8080/"
        },
        "id": "duJc2RH2oaia",
        "outputId": "fe2f2bec-c0f3-42aa-eb00-ce66e37ffa5d"
      },
      "execution_count": null,
      "outputs": [
        {
          "output_type": "stream",
          "name": "stdout",
          "text": [
            "is_fraud\n",
            "0    553574\n",
            "1      2145\n",
            "Name: count, dtype: int64\n"
          ]
        }
      ]
    },
    {
      "cell_type": "code",
      "source": [
        "# 3. Handle imbalance (undersample for speed)\n",
        "# ======================\n",
        "fraud = df[df['Class'] == 1]\n",
        "legit = df[df['Class'] == 0].sample(n=len(fraud), random_state=42)\n",
        "df_balanced = pd.concat([fraud, legit]).sample(frac=1, random_state=42)\n",
        "\n",
        "X = df_balanced.drop('Class', axis=1)\n",
        "y = df_balanced['Class']\n"
      ],
      "metadata": {
        "id": "ZdylBdjQogTP"
      },
      "execution_count": null,
      "outputs": []
    },
    {
      "cell_type": "code",
      "source": [
        "# 4. Train/Test split\n",
        "# ======================\n",
        "from sklearn.model_selection import train_test_split\n",
        "X_train, X_test, y_train, y_test = train_test_split(\n",
        "    X, y, test_size=0.2, random_state=42, stratify=y\n",
        ")\n"
      ],
      "metadata": {
        "id": "ZVocBw53olEr"
      },
      "execution_count": null,
      "outputs": []
    },
    {
      "cell_type": "code",
      "source": [
        "# 5. Train models\n",
        "# ======================\n",
        "from sklearn.linear_model import LogisticRegression\n",
        "from sklearn.tree import DecisionTreeClassifier\n",
        "from sklearn.ensemble import RandomForestClassifier\n",
        "from sklearn.metrics import classification_report, accuracy_score, roc_auc_score\n",
        "\n",
        "models = {\n",
        "    \"Logistic Regression\": LogisticRegression(max_iter=2000),\n",
        "    \"Decision Tree\": DecisionTreeClassifier(),\n",
        "    \"Random Forest\": RandomForestClassifier(n_estimators=100)\n",
        "}\n",
        "\n",
        "best_model = None\n",
        "best_auc = 0\n",
        "\n",
        "for name, model in models.items():\n",
        "    model.fit(X_train, y_train)\n",
        "    preds = model.predict(X_test)\n",
        "    auc = roc_auc_score(y_test, preds)\n",
        "    print(f\"\\n=== {name} ===\")\n",
        "    print(\"Accuracy:\", accuracy_score(y_test, preds))\n",
        "    print(\"ROC-AUC:\", auc)\n",
        "    print(classification_report(y_test, preds, zero_division=0))\n",
        "\n",
        "    if auc > best_auc:\n",
        "        best_auc = auc\n",
        "        best_model = model\n",
        "\n",
        "print(f\"\\n✅ Best model: {type(best_model).__name__} with ROC-AUC {best_auc:.4f}\")\n"
      ],
      "metadata": {
        "colab": {
          "base_uri": "https://localhost:8080/"
        },
        "id": "yYUI4HxJossB",
        "outputId": "22285886-6f99-4042-d6a2-a301c321a395"
      },
      "execution_count": null,
      "outputs": [
        {
          "output_type": "stream",
          "name": "stdout",
          "text": [
            "\n",
            "=== Logistic Regression ===\n",
            "Accuracy: 0.5\n",
            "ROC-AUC: 0.5\n",
            "              precision    recall  f1-score   support\n",
            "\n",
            "           0       0.50      1.00      0.67       429\n",
            "           1       0.00      0.00      0.00       429\n",
            "\n",
            "    accuracy                           0.50       858\n",
            "   macro avg       0.25      0.50      0.33       858\n",
            "weighted avg       0.25      0.50      0.33       858\n",
            "\n",
            "\n",
            "=== Decision Tree ===\n",
            "Accuracy: 0.8939393939393939\n",
            "ROC-AUC: 0.8939393939393939\n",
            "              precision    recall  f1-score   support\n",
            "\n",
            "           0       0.90      0.89      0.89       429\n",
            "           1       0.89      0.90      0.89       429\n",
            "\n",
            "    accuracy                           0.89       858\n",
            "   macro avg       0.89      0.89      0.89       858\n",
            "weighted avg       0.89      0.89      0.89       858\n",
            "\n",
            "\n",
            "=== Random Forest ===\n",
            "Accuracy: 0.9324009324009324\n",
            "ROC-AUC: 0.9324009324009324\n",
            "              precision    recall  f1-score   support\n",
            "\n",
            "           0       0.92      0.94      0.93       429\n",
            "           1       0.94      0.92      0.93       429\n",
            "\n",
            "    accuracy                           0.93       858\n",
            "   macro avg       0.93      0.93      0.93       858\n",
            "weighted avg       0.93      0.93      0.93       858\n",
            "\n",
            "\n",
            "✅ Best model: RandomForestClassifier with ROC-AUC 0.9324\n"
          ]
        }
      ]
    },
    {
      "cell_type": "code",
      "source": [
        "# 6. Save model\n",
        "# ======================\n",
        "import joblib\n",
        "joblib.dump(best_model, \"credit_fraud_model.joblib\")\n",
        "from google.colab import files\n",
        "files.download(\"credit_fraud_model.joblib\")\n"
      ],
      "metadata": {
        "colab": {
          "base_uri": "https://localhost:8080/",
          "height": 17
        },
        "id": "4ggVXi78oyW6",
        "outputId": "3410cff3-df8b-43f5-c85f-bd1b95e82dbc"
      },
      "execution_count": null,
      "outputs": [
        {
          "output_type": "display_data",
          "data": {
            "text/plain": [
              "<IPython.core.display.Javascript object>"
            ],
            "application/javascript": [
              "\n",
              "    async function download(id, filename, size) {\n",
              "      if (!google.colab.kernel.accessAllowed) {\n",
              "        return;\n",
              "      }\n",
              "      const div = document.createElement('div');\n",
              "      const label = document.createElement('label');\n",
              "      label.textContent = `Downloading \"${filename}\": `;\n",
              "      div.appendChild(label);\n",
              "      const progress = document.createElement('progress');\n",
              "      progress.max = size;\n",
              "      div.appendChild(progress);\n",
              "      document.body.appendChild(div);\n",
              "\n",
              "      const buffers = [];\n",
              "      let downloaded = 0;\n",
              "\n",
              "      const channel = await google.colab.kernel.comms.open(id);\n",
              "      // Send a message to notify the kernel that we're ready.\n",
              "      channel.send({})\n",
              "\n",
              "      for await (const message of channel.messages) {\n",
              "        // Send a message to notify the kernel that we're ready.\n",
              "        channel.send({})\n",
              "        if (message.buffers) {\n",
              "          for (const buffer of message.buffers) {\n",
              "            buffers.push(buffer);\n",
              "            downloaded += buffer.byteLength;\n",
              "            progress.value = downloaded;\n",
              "          }\n",
              "        }\n",
              "      }\n",
              "      const blob = new Blob(buffers, {type: 'application/binary'});\n",
              "      const a = document.createElement('a');\n",
              "      a.href = window.URL.createObjectURL(blob);\n",
              "      a.download = filename;\n",
              "      div.appendChild(a);\n",
              "      a.click();\n",
              "      div.remove();\n",
              "    }\n",
              "  "
            ]
          },
          "metadata": {}
        },
        {
          "output_type": "display_data",
          "data": {
            "text/plain": [
              "<IPython.core.display.Javascript object>"
            ],
            "application/javascript": [
              "download(\"download_02df1891-3c57-458d-929b-58f042014913\", \"credit_fraud_model.joblib\", 4027881)"
            ]
          },
          "metadata": {}
        }
      ]
    },
    {
      "cell_type": "code",
      "source": [
        "# 7. Predict a new transaction\n",
        "# ======================\n",
        "def predict_transaction(transaction_data):\n",
        "    transaction_df = pd.DataFrame([transaction_data], columns=X.columns)\n",
        "    return best_model.predict(transaction_df)[0]\n",
        "\n",
        "# Example prediction (using first row from test set)\n",
        "sample_data = list(X_test.iloc[0])\n",
        "print(\"Prediction (0=legit, 1=fraud):\", predict_transaction(sample_data))\n"
      ],
      "metadata": {
        "colab": {
          "base_uri": "https://localhost:8080/"
        },
        "id": "E4-YBWkBo4vC",
        "outputId": "081dfc05-d68a-4c7c-ad3a-db90b21ed1ab"
      },
      "execution_count": null,
      "outputs": [
        {
          "output_type": "stream",
          "name": "stdout",
          "text": [
            "Prediction (0=legit, 1=fraud): 0\n"
          ]
        }
      ]
    }
  ]
}